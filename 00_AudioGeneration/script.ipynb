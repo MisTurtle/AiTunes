{
 "cells": [
  {
   "cell_type": "code",
   "execution_count": 9,
   "metadata": {},
   "outputs": [
    {
     "name": "stdout",
     "output_type": "stream",
     "text": [
      "Fichier WAV généré : Samples/generated\\instrument_sound_261.wav\n"
     ]
    }
   ],
   "source": [
    "import os\n",
    "import numpy as np\n",
    "from scipy.io.wavfile import write\n",
    "\n",
    "\n",
    "\n",
    "output_folder = \"Samples/generated\"\n",
    "\n",
    "# Crée les dossiers parents et le dossier cible s'ils n'existent pas\n",
    "os.makedirs(output_folder, exist_ok=True)\n",
    "\n",
    "\n",
    "def generate_sine_wave(sample_rate: int = 44100, duration: float = 5, hz: float = 440.0, amp: float = 0.5):\n",
    "    assert -1 <= amp <= 1  # Amp has to be between -1 and 1 so the normalization to int16 works\n",
    "    \n",
    "    timepoints = np.linspace(0, duration, int(sample_rate * duration), endpoint=False)\n",
    "    sine_wave = amp * np.sin(2 * np.pi * hz * timepoints)\n",
    "    sine_wave_pcm = np.int16(sine_wave * 32767)  # Normalize to int16 which is the pcm data size (no compression)\n",
    "\n",
    "    write(\n",
    "        os.path.join(output_folder, f\"sine_wave_{int(hz)}.wav\"),\n",
    "        sample_rate, sine_wave_pcm\n",
    "    )\n",
    "\n",
    "\n",
    "def generate_ascending_sine_wave(sample_rate: int = 44100, duration: float = 5, hz_min: float = 10, hz_max: float = 500, amp: float = 0.5):\n",
    "    assert -1 <= amp <= 1  # Amp has to be between -1 and 1 so the normalization to int16 works\n",
    "    \n",
    "    timepoints = np.linspace(0, duration, int(sample_rate * duration), endpoint=False)\n",
    "    hz = np.linspace(hz_min, hz_max, int(sample_rate * duration), endpoint=False)\n",
    "\n",
    "    sine_wave = amp * np.sin(2 * np.pi * hz * timepoints)\n",
    "    sine_wave_pcm = np.int16(sine_wave * 32767)  # Normalize to int16 which is the pcm data size (no compression)\n",
    "\n",
    "    write(\n",
    "        os.path.join(output_folder, f\"sine_asc_wave_{int(hz_min)}-{int(hz_max)}.wav\"),\n",
    "        sample_rate, sine_wave_pcm\n",
    "    )\n",
    "\n",
    "def generate_instrument_sound(sample_rate=44100, duration=3.0, frequency=261.63):\n",
    "    t = np.linspace(0, duration, int(sample_rate * duration), endpoint=False)\n",
    "\n",
    "    harmonics = [1.0, 0.5, 0.3, 0.2, 0.1]\n",
    "    signal = sum(harmonics[i] * np.sin(2 * np.pi * (i + 1) * frequency * t) for i in range(len(harmonics)))\n",
    "\n",
    "    envelope = np.exp(-3 * t)\n",
    "    signal = envelope * signal  # Appliquer l'enveloppe au signal\n",
    "\n",
    "    signal = (signal / np.max(np.abs(signal)) * 32767).astype(np.int16)  # Normalisation\n",
    "\n",
    "    filename = os.path.join(output_folder, f\"instrument_sound_{int(frequency)}.wav\")\n",
    "    write(filename, sample_rate, signal)\n",
    "    print(f\"Fichier WAV généré : {filename}\")\n",
    "\n",
    "\n",
    "if __name__ == \"__main__\":\n",
    "    generate_sine_wave()\n",
    "    generate_ascending_sine_wave(hz_min=150, hz_max=300)\n",
    "    generate_ascending_sine_wave(hz_min=300, hz_max=150)\n",
    "    generate_instrument_sound() \n"
   ]
  }
 ],
 "metadata": {
  "kernelspec": {
   "display_name": "Python 3",
   "language": "python",
   "name": "python3"
  },
  "language_info": {
   "codemirror_mode": {
    "name": "ipython",
    "version": 3
   },
   "file_extension": ".py",
   "mimetype": "text/x-python",
   "name": "python",
   "nbconvert_exporter": "python",
   "pygments_lexer": "ipython3",
   "version": "3.10.11"
  }
 },
 "nbformat": 4,
 "nbformat_minor": 2
}
